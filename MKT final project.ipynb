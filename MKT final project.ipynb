{
 "cells": [
  {
   "cell_type": "code",
   "execution_count": 453,
   "id": "d3ef1a6b",
   "metadata": {},
   "outputs": [],
   "source": [
    "import pandas as pd\n",
    "import numpy as np\n",
    "from scipy.stats import norm\n",
    "import pickle\n",
    "import warnings\n",
    "warnings.filterwarnings('ignore')"
   ]
  },
  {
   "cell_type": "code",
   "execution_count": 454,
   "id": "814a1222",
   "metadata": {},
   "outputs": [],
   "source": [
    "with open('subscribers', 'rb') as f:\n",
    "    subs = pickle.load(f)\n",
    "with open('customer_service_reps', 'rb') as f:\n",
    "    customer_service_reps = pickle.load(f)\n",
    "with open('engagement', 'rb') as f:\n",
    "    eng = pickle.load(f)"
   ]
  },
  {
   "cell_type": "code",
   "execution_count": 455,
   "id": "7f7a34f2",
   "metadata": {},
   "outputs": [
    {
     "data": {
      "text/html": [
       "<div>\n",
       "<style scoped>\n",
       "    .dataframe tbody tr th:only-of-type {\n",
       "        vertical-align: middle;\n",
       "    }\n",
       "\n",
       "    .dataframe tbody tr th {\n",
       "        vertical-align: top;\n",
       "    }\n",
       "\n",
       "    .dataframe thead th {\n",
       "        text-align: right;\n",
       "    }\n",
       "</style>\n",
       "<table border=\"1\" class=\"dataframe\">\n",
       "  <thead>\n",
       "    <tr style=\"text-align: right;\">\n",
       "      <th></th>\n",
       "      <th>subid</th>\n",
       "      <th>package_type</th>\n",
       "      <th>num_weekly_services_utilized</th>\n",
       "      <th>preferred_genre</th>\n",
       "      <th>intended_use</th>\n",
       "      <th>weekly_consumption_hour</th>\n",
       "      <th>num_ideal_streaming_services</th>\n",
       "      <th>retarget_TF</th>\n",
       "      <th>age</th>\n",
       "      <th>male_TF</th>\n",
       "      <th>...</th>\n",
       "      <th>creation_until_cancel_days</th>\n",
       "      <th>cancel_before_trial_end</th>\n",
       "      <th>trial_end_date</th>\n",
       "      <th>initial_credit_card_declined</th>\n",
       "      <th>revenue_net</th>\n",
       "      <th>join_fee</th>\n",
       "      <th>language</th>\n",
       "      <th>paid_TF</th>\n",
       "      <th>refund_after_trial_TF</th>\n",
       "      <th>payment_type</th>\n",
       "    </tr>\n",
       "  </thead>\n",
       "  <tbody>\n",
       "    <tr>\n",
       "      <th>162502</th>\n",
       "      <td>21724479</td>\n",
       "      <td>economy</td>\n",
       "      <td>NaN</td>\n",
       "      <td>comedy</td>\n",
       "      <td>access to exclusive content</td>\n",
       "      <td>NaN</td>\n",
       "      <td>NaN</td>\n",
       "      <td>False</td>\n",
       "      <td>NaN</td>\n",
       "      <td>False</td>\n",
       "      <td>...</td>\n",
       "      <td>NaN</td>\n",
       "      <td>True</td>\n",
       "      <td>2020-02-08</td>\n",
       "      <td>False</td>\n",
       "      <td>NaN</td>\n",
       "      <td>NaN</td>\n",
       "      <td>ar</td>\n",
       "      <td>True</td>\n",
       "      <td>False</td>\n",
       "      <td>Standard Charter</td>\n",
       "    </tr>\n",
       "    <tr>\n",
       "      <th>380374</th>\n",
       "      <td>23383224</td>\n",
       "      <td>base</td>\n",
       "      <td>NaN</td>\n",
       "      <td>comedy</td>\n",
       "      <td>access to exclusive content</td>\n",
       "      <td>22.951579</td>\n",
       "      <td>NaN</td>\n",
       "      <td>False</td>\n",
       "      <td>70.0</td>\n",
       "      <td>False</td>\n",
       "      <td>...</td>\n",
       "      <td>0.0</td>\n",
       "      <td>False</td>\n",
       "      <td>2020-03-16</td>\n",
       "      <td>False</td>\n",
       "      <td>0.0</td>\n",
       "      <td>0.3303</td>\n",
       "      <td>ar</td>\n",
       "      <td>False</td>\n",
       "      <td>False</td>\n",
       "      <td>NaN</td>\n",
       "    </tr>\n",
       "    <tr>\n",
       "      <th>496617</th>\n",
       "      <td>26844789</td>\n",
       "      <td>enhanced</td>\n",
       "      <td>3.362885</td>\n",
       "      <td>regional</td>\n",
       "      <td>replace OTT</td>\n",
       "      <td>36.001186</td>\n",
       "      <td>1.951776</td>\n",
       "      <td>False</td>\n",
       "      <td>25.0</td>\n",
       "      <td>True</td>\n",
       "      <td>...</td>\n",
       "      <td>1.0</td>\n",
       "      <td>False</td>\n",
       "      <td>2019-12-22</td>\n",
       "      <td>False</td>\n",
       "      <td>0.0</td>\n",
       "      <td>0.1101</td>\n",
       "      <td>ar</td>\n",
       "      <td>False</td>\n",
       "      <td>False</td>\n",
       "      <td>NaN</td>\n",
       "    </tr>\n",
       "    <tr>\n",
       "      <th>356799</th>\n",
       "      <td>29417030</td>\n",
       "      <td>base</td>\n",
       "      <td>NaN</td>\n",
       "      <td>drama</td>\n",
       "      <td>replace OTT</td>\n",
       "      <td>20.051667</td>\n",
       "      <td>NaN</td>\n",
       "      <td>False</td>\n",
       "      <td>30.0</td>\n",
       "      <td>False</td>\n",
       "      <td>...</td>\n",
       "      <td>0.0</td>\n",
       "      <td>False</td>\n",
       "      <td>2020-02-11</td>\n",
       "      <td>False</td>\n",
       "      <td>0.0</td>\n",
       "      <td>0.0367</td>\n",
       "      <td>ar</td>\n",
       "      <td>False</td>\n",
       "      <td>False</td>\n",
       "      <td>NaN</td>\n",
       "    </tr>\n",
       "    <tr>\n",
       "      <th>681701</th>\n",
       "      <td>26723159</td>\n",
       "      <td>base</td>\n",
       "      <td>3.731089</td>\n",
       "      <td>comedy</td>\n",
       "      <td>replace OTT</td>\n",
       "      <td>22.951579</td>\n",
       "      <td>2.506384</td>\n",
       "      <td>False</td>\n",
       "      <td>28.0</td>\n",
       "      <td>False</td>\n",
       "      <td>...</td>\n",
       "      <td>9.0</td>\n",
       "      <td>False</td>\n",
       "      <td>2019-10-20</td>\n",
       "      <td>False</td>\n",
       "      <td>0.0</td>\n",
       "      <td>0.0367</td>\n",
       "      <td>ar</td>\n",
       "      <td>False</td>\n",
       "      <td>False</td>\n",
       "      <td>NaN</td>\n",
       "    </tr>\n",
       "  </tbody>\n",
       "</table>\n",
       "<p>5 rows × 29 columns</p>\n",
       "</div>"
      ],
      "text/plain": [
       "           subid package_type  num_weekly_services_utilized preferred_genre  \\\n",
       "162502  21724479      economy                           NaN          comedy   \n",
       "380374  23383224         base                           NaN          comedy   \n",
       "496617  26844789     enhanced                      3.362885        regional   \n",
       "356799  29417030         base                           NaN           drama   \n",
       "681701  26723159         base                      3.731089          comedy   \n",
       "\n",
       "                       intended_use  weekly_consumption_hour  \\\n",
       "162502  access to exclusive content                      NaN   \n",
       "380374  access to exclusive content                22.951579   \n",
       "496617                  replace OTT                36.001186   \n",
       "356799                  replace OTT                20.051667   \n",
       "681701                  replace OTT                22.951579   \n",
       "\n",
       "        num_ideal_streaming_services  retarget_TF   age male_TF  ...  \\\n",
       "162502                           NaN        False   NaN   False  ...   \n",
       "380374                           NaN        False  70.0   False  ...   \n",
       "496617                      1.951776        False  25.0    True  ...   \n",
       "356799                           NaN        False  30.0   False  ...   \n",
       "681701                      2.506384        False  28.0   False  ...   \n",
       "\n",
       "       creation_until_cancel_days cancel_before_trial_end trial_end_date  \\\n",
       "162502                        NaN                    True     2020-02-08   \n",
       "380374                        0.0                   False     2020-03-16   \n",
       "496617                        1.0                   False     2019-12-22   \n",
       "356799                        0.0                   False     2020-02-11   \n",
       "681701                        9.0                   False     2019-10-20   \n",
       "\n",
       "       initial_credit_card_declined  revenue_net join_fee  language  paid_TF  \\\n",
       "162502                        False          NaN      NaN        ar     True   \n",
       "380374                        False          0.0   0.3303        ar    False   \n",
       "496617                        False          0.0   0.1101        ar    False   \n",
       "356799                        False          0.0   0.0367        ar    False   \n",
       "681701                        False          0.0   0.0367        ar    False   \n",
       "\n",
       "       refund_after_trial_TF      payment_type  \n",
       "162502                 False  Standard Charter  \n",
       "380374                 False               NaN  \n",
       "496617                 False               NaN  \n",
       "356799                 False               NaN  \n",
       "681701                 False               NaN  \n",
       "\n",
       "[5 rows x 29 columns]"
      ]
     },
     "execution_count": 455,
     "metadata": {},
     "output_type": "execute_result"
    }
   ],
   "source": [
    "subs.head()"
   ]
  },
  {
   "cell_type": "code",
   "execution_count": 456,
   "id": "a426b3bb",
   "metadata": {},
   "outputs": [],
   "source": [
    "subs = subs.reset_index(drop=True)"
   ]
  },
  {
   "cell_type": "code",
   "execution_count": 457,
   "id": "ffdc41b9",
   "metadata": {},
   "outputs": [
    {
     "data": {
      "text/html": [
       "<div>\n",
       "<style scoped>\n",
       "    .dataframe tbody tr th:only-of-type {\n",
       "        vertical-align: middle;\n",
       "    }\n",
       "\n",
       "    .dataframe tbody tr th {\n",
       "        vertical-align: top;\n",
       "    }\n",
       "\n",
       "    .dataframe thead th {\n",
       "        text-align: right;\n",
       "    }\n",
       "</style>\n",
       "<table border=\"1\" class=\"dataframe\">\n",
       "  <thead>\n",
       "    <tr style=\"text-align: right;\">\n",
       "      <th></th>\n",
       "      <th>subid</th>\n",
       "      <th>date</th>\n",
       "      <th>app_opens</th>\n",
       "      <th>cust_service_mssgs</th>\n",
       "      <th>num_videos_completed</th>\n",
       "      <th>num_videos_more_than_30_seconds</th>\n",
       "      <th>num_videos_rated</th>\n",
       "      <th>num_series_started</th>\n",
       "      <th>payment_period</th>\n",
       "    </tr>\n",
       "  </thead>\n",
       "  <tbody>\n",
       "    <tr>\n",
       "      <th>1</th>\n",
       "      <td>22349235</td>\n",
       "      <td>2019-07-01</td>\n",
       "      <td>1.0</td>\n",
       "      <td>1.0</td>\n",
       "      <td>0.0</td>\n",
       "      <td>6.0</td>\n",
       "      <td>0.0</td>\n",
       "      <td>0.0</td>\n",
       "      <td>0.0</td>\n",
       "    </tr>\n",
       "    <tr>\n",
       "      <th>2</th>\n",
       "      <td>22349235</td>\n",
       "      <td>2019-07-02</td>\n",
       "      <td>1.0</td>\n",
       "      <td>0.0</td>\n",
       "      <td>0.0</td>\n",
       "      <td>5.0</td>\n",
       "      <td>0.0</td>\n",
       "      <td>0.0</td>\n",
       "      <td>0.0</td>\n",
       "    </tr>\n",
       "    <tr>\n",
       "      <th>3</th>\n",
       "      <td>22349235</td>\n",
       "      <td>2019-07-03</td>\n",
       "      <td>0.0</td>\n",
       "      <td>1.0</td>\n",
       "      <td>0.0</td>\n",
       "      <td>0.0</td>\n",
       "      <td>0.0</td>\n",
       "      <td>0.0</td>\n",
       "      <td>0.0</td>\n",
       "    </tr>\n",
       "    <tr>\n",
       "      <th>50</th>\n",
       "      <td>20848497</td>\n",
       "      <td>2019-07-02</td>\n",
       "      <td>1.0</td>\n",
       "      <td>0.0</td>\n",
       "      <td>7.0</td>\n",
       "      <td>7.0</td>\n",
       "      <td>0.0</td>\n",
       "      <td>0.0</td>\n",
       "      <td>0.0</td>\n",
       "    </tr>\n",
       "    <tr>\n",
       "      <th>51</th>\n",
       "      <td>22680106</td>\n",
       "      <td>2019-07-02</td>\n",
       "      <td>2.0</td>\n",
       "      <td>1.0</td>\n",
       "      <td>7.0</td>\n",
       "      <td>7.0</td>\n",
       "      <td>0.0</td>\n",
       "      <td>1.0</td>\n",
       "      <td>0.0</td>\n",
       "    </tr>\n",
       "  </tbody>\n",
       "</table>\n",
       "</div>"
      ],
      "text/plain": [
       "       subid       date  app_opens  cust_service_mssgs  num_videos_completed  \\\n",
       "1   22349235 2019-07-01        1.0                 1.0                   0.0   \n",
       "2   22349235 2019-07-02        1.0                 0.0                   0.0   \n",
       "3   22349235 2019-07-03        0.0                 1.0                   0.0   \n",
       "50  20848497 2019-07-02        1.0                 0.0                   7.0   \n",
       "51  22680106 2019-07-02        2.0                 1.0                   7.0   \n",
       "\n",
       "    num_videos_more_than_30_seconds  num_videos_rated  num_series_started  \\\n",
       "1                               6.0               0.0                 0.0   \n",
       "2                               5.0               0.0                 0.0   \n",
       "3                               0.0               0.0                 0.0   \n",
       "50                              7.0               0.0                 0.0   \n",
       "51                              7.0               0.0                 1.0   \n",
       "\n",
       "    payment_period  \n",
       "1              0.0  \n",
       "2              0.0  \n",
       "3              0.0  \n",
       "50             0.0  \n",
       "51             0.0  "
      ]
     },
     "execution_count": 457,
     "metadata": {},
     "output_type": "execute_result"
    }
   ],
   "source": [
    "eng.head()"
   ]
  },
  {
   "cell_type": "code",
   "execution_count": 458,
   "id": "08e0137d",
   "metadata": {},
   "outputs": [
    {
     "data": {
      "text/html": [
       "<div>\n",
       "<style scoped>\n",
       "    .dataframe tbody tr th:only-of-type {\n",
       "        vertical-align: middle;\n",
       "    }\n",
       "\n",
       "    .dataframe tbody tr th {\n",
       "        vertical-align: top;\n",
       "    }\n",
       "\n",
       "    .dataframe thead th {\n",
       "        text-align: right;\n",
       "    }\n",
       "</style>\n",
       "<table border=\"1\" class=\"dataframe\">\n",
       "  <thead>\n",
       "    <tr style=\"text-align: right;\">\n",
       "      <th></th>\n",
       "      <th>customer_service_rep_id</th>\n",
       "      <th>subid</th>\n",
       "      <th>current_sub_TF</th>\n",
       "      <th>cancel_date</th>\n",
       "      <th>account_creation_date</th>\n",
       "      <th>num_trial_days</th>\n",
       "      <th>trial_completed_TF</th>\n",
       "      <th>billing_channel</th>\n",
       "      <th>revenue_net_1month</th>\n",
       "      <th>payment_period</th>\n",
       "      <th>last_payment</th>\n",
       "      <th>next_payment</th>\n",
       "      <th>renew</th>\n",
       "    </tr>\n",
       "  </thead>\n",
       "  <tbody>\n",
       "    <tr>\n",
       "      <th>4</th>\n",
       "      <td>36189811</td>\n",
       "      <td>25108574</td>\n",
       "      <td>False</td>\n",
       "      <td>NaT</td>\n",
       "      <td>2019-11-26 03:30:29</td>\n",
       "      <td>7</td>\n",
       "      <td>True</td>\n",
       "      <td>itunes</td>\n",
       "      <td>1.1377</td>\n",
       "      <td>0</td>\n",
       "      <td>2019-11-26 03:30:29</td>\n",
       "      <td>2019-11-26 03:30:29</td>\n",
       "      <td>NaN</td>\n",
       "    </tr>\n",
       "    <tr>\n",
       "      <th>5</th>\n",
       "      <td>36189811</td>\n",
       "      <td>25108574</td>\n",
       "      <td>False</td>\n",
       "      <td>NaT</td>\n",
       "      <td>2019-11-26 03:30:29</td>\n",
       "      <td>7</td>\n",
       "      <td>True</td>\n",
       "      <td>itunes</td>\n",
       "      <td>1.1377</td>\n",
       "      <td>1</td>\n",
       "      <td>2019-11-26 03:30:29</td>\n",
       "      <td>2019-12-27 03:30:29</td>\n",
       "      <td>NaN</td>\n",
       "    </tr>\n",
       "    <tr>\n",
       "      <th>6</th>\n",
       "      <td>36189811</td>\n",
       "      <td>25108574</td>\n",
       "      <td>False</td>\n",
       "      <td>NaT</td>\n",
       "      <td>2019-11-26 03:30:29</td>\n",
       "      <td>7</td>\n",
       "      <td>True</td>\n",
       "      <td>itunes</td>\n",
       "      <td>1.1377</td>\n",
       "      <td>2</td>\n",
       "      <td>2019-12-27 03:30:29</td>\n",
       "      <td>2020-01-26 03:30:29</td>\n",
       "      <td>NaN</td>\n",
       "    </tr>\n",
       "    <tr>\n",
       "      <th>7</th>\n",
       "      <td>36189811</td>\n",
       "      <td>25108574</td>\n",
       "      <td>False</td>\n",
       "      <td>NaT</td>\n",
       "      <td>2019-11-26 03:30:29</td>\n",
       "      <td>7</td>\n",
       "      <td>True</td>\n",
       "      <td>itunes</td>\n",
       "      <td>1.1377</td>\n",
       "      <td>3</td>\n",
       "      <td>2020-01-26 03:30:29</td>\n",
       "      <td>NaT</td>\n",
       "      <td>NaN</td>\n",
       "    </tr>\n",
       "    <tr>\n",
       "      <th>8</th>\n",
       "      <td>31174901</td>\n",
       "      <td>25914865</td>\n",
       "      <td>True</td>\n",
       "      <td>NaT</td>\n",
       "      <td>2020-03-19 01:20:25</td>\n",
       "      <td>14</td>\n",
       "      <td>True</td>\n",
       "      <td>itunes</td>\n",
       "      <td>1.1377</td>\n",
       "      <td>0</td>\n",
       "      <td>2020-03-19 01:20:25</td>\n",
       "      <td>2020-04-02 01:20:25</td>\n",
       "      <td>NaN</td>\n",
       "    </tr>\n",
       "  </tbody>\n",
       "</table>\n",
       "</div>"
      ],
      "text/plain": [
       "   customer_service_rep_id     subid  current_sub_TF cancel_date  \\\n",
       "4                 36189811  25108574           False         NaT   \n",
       "5                 36189811  25108574           False         NaT   \n",
       "6                 36189811  25108574           False         NaT   \n",
       "7                 36189811  25108574           False         NaT   \n",
       "8                 31174901  25914865            True         NaT   \n",
       "\n",
       "  account_creation_date  num_trial_days  trial_completed_TF billing_channel  \\\n",
       "4   2019-11-26 03:30:29               7                True          itunes   \n",
       "5   2019-11-26 03:30:29               7                True          itunes   \n",
       "6   2019-11-26 03:30:29               7                True          itunes   \n",
       "7   2019-11-26 03:30:29               7                True          itunes   \n",
       "8   2020-03-19 01:20:25              14                True          itunes   \n",
       "\n",
       "   revenue_net_1month  payment_period        last_payment        next_payment  \\\n",
       "4              1.1377               0 2019-11-26 03:30:29 2019-11-26 03:30:29   \n",
       "5              1.1377               1 2019-11-26 03:30:29 2019-12-27 03:30:29   \n",
       "6              1.1377               2 2019-12-27 03:30:29 2020-01-26 03:30:29   \n",
       "7              1.1377               3 2020-01-26 03:30:29                 NaT   \n",
       "8              1.1377               0 2020-03-19 01:20:25 2020-04-02 01:20:25   \n",
       "\n",
       "  renew  \n",
       "4   NaN  \n",
       "5   NaN  \n",
       "6   NaN  \n",
       "7   NaN  \n",
       "8   NaN  "
      ]
     },
     "execution_count": 458,
     "metadata": {},
     "output_type": "execute_result"
    }
   ],
   "source": [
    "customer_service_reps.head()"
   ]
  },
  {
   "cell_type": "code",
   "execution_count": 459,
   "id": "13d840dc",
   "metadata": {},
   "outputs": [
    {
     "data": {
      "text/plain": [
       "Index(['subid', 'package_type', 'num_weekly_services_utilized',\n",
       "       'preferred_genre', 'intended_use', 'weekly_consumption_hour',\n",
       "       'num_ideal_streaming_services', 'retarget_TF', 'age', 'male_TF',\n",
       "       'country', 'attribution_technical', 'attribution_survey', 'op_sys',\n",
       "       'months_per_bill_period', 'plan_type', 'monthly_price',\n",
       "       'discount_price', 'account_creation_date', 'creation_until_cancel_days',\n",
       "       'cancel_before_trial_end', 'trial_end_date',\n",
       "       'initial_credit_card_declined', 'revenue_net', 'join_fee', 'language',\n",
       "       'paid_TF', 'refund_after_trial_TF', 'payment_type'],\n",
       "      dtype='object')"
      ]
     },
     "execution_count": 459,
     "metadata": {},
     "output_type": "execute_result"
    }
   ],
   "source": [
    "subs.columns"
   ]
  },
  {
   "cell_type": "markdown",
   "id": "804e295f",
   "metadata": {},
   "source": [
    "## Data preprocessing"
   ]
  },
  {
   "cell_type": "code",
   "execution_count": 460,
   "id": "17a8adce",
   "metadata": {},
   "outputs": [],
   "source": [
    "# define conversion\n",
    "\n",
    "for i in range(len(subs)):\n",
    "    if (subs.loc[i,'paid_TF'] == True and subs.loc[i,'refund_after_trial_TF'] == False):\n",
    "        subs.loc[i,'convert_TF'] = True\n",
    "    else:\n",
    "        subs.loc[i,'convert_TF'] = False"
   ]
  },
  {
   "cell_type": "markdown",
   "id": "65fe96ea",
   "metadata": {},
   "source": [
    "## A/B test on plan type"
   ]
  },
  {
   "cell_type": "code",
   "execution_count": 461,
   "id": "d8c1b13e",
   "metadata": {},
   "outputs": [
    {
     "data": {
      "text/plain": [
       "base_uae_14_day_trial                227096\n",
       "high_uae_14_day_trial                   325\n",
       "low_uae_no_trial                        167\n",
       "base_eur_14_day_trial                    18\n",
       "high_sar_14_day_trial                    12\n",
       "low_gbp_14_day_trial                      4\n",
       "high_aud_14_day_trial                     2\n",
       "low_eur_no_trial                          1\n",
       "base_uae_no_trial_7_day_guarantee         1\n",
       "low_sar_no_trial                          1\n",
       "high_jpy_14_day_trial                     1\n",
       "Name: plan_type, dtype: int64"
      ]
     },
     "execution_count": 461,
     "metadata": {},
     "output_type": "execute_result"
    }
   ],
   "source": [
    "subs.plan_type.value_counts()"
   ]
  },
  {
   "cell_type": "code",
   "execution_count": 462,
   "id": "98edb114",
   "metadata": {},
   "outputs": [],
   "source": [
    "def calc_proportion(array_TF):\n",
    "    return sum(array_TF)/len(array_TF)\n",
    "\n",
    "\n",
    "def calc_zscore(phat, p, n_f):\n",
    "    return (phat-p)/np.sqrt(p*(1-p)/n_f)\n",
    "\n",
    "\n",
    "def get_z_crit_value(alpha_f, num_sides_f):\n",
    "    return norm.ppf(1-(alpha_f/num_sides_f))\n",
    "\n",
    "\n",
    "def get_p_value(zscore_f, num_sides_f):\n",
    "    return (1-norm.cdf(abs(zscore_f))) * num_sides_f\n",
    "\n",
    "\n",
    "def reject_null(variantA_outcomes_f, variantB_outcomes_f, alpha_f, num_sides_f):\n",
    "    p_hat_f = calc_proportion(variantB_outcomes_f)\n",
    "    p_f = calc_proportion(variantA_outcomes_f)\n",
    "    n_f = len(variantB_outcomes_f)\n",
    "    z_score = calc_zscore(p_hat_f, p_f, n_f)\n",
    "    p_value = get_p_value(z_score, num_sides_f)\n",
    "    z_crit = get_z_crit_value(alpha_f, num_sides_f)\n",
    "    return z_score > z_crit, z_score, p_value\n"
   ]
  },
  {
   "cell_type": "code",
   "execution_count": 463,
   "id": "26ebc6fb",
   "metadata": {},
   "outputs": [],
   "source": [
    "# set test parameter: 95% confidence level, one-tailed test\n",
    "\n",
    "alpha_f = .05\n",
    "num_sides_f = 1"
   ]
  },
  {
   "cell_type": "code",
   "execution_count": 464,
   "id": "8048271b",
   "metadata": {},
   "outputs": [],
   "source": [
    "AB_test = pd.DataFrame(index = [\"conversion_rate\",\"reject\",\"z_score\",\"p_value\"], \\\n",
    "                        columns=['base_uae_14_day_trial','high_uae_14_day_trial','low_uae_no_trial'])"
   ]
  },
  {
   "cell_type": "code",
   "execution_count": 465,
   "id": "30d92095",
   "metadata": {},
   "outputs": [],
   "source": [
    "plan_type = ['base_uae_14_day_trial','high_uae_14_day_trial','low_uae_no_trial']\n",
    "\n",
    "for i in range(len(plan_type)):\n",
    "    variantA_base_uae_14 = subs.loc[(subs['plan_type'] == 'base_uae_14_day_trial'),'convert_TF']\n",
    "    variantB = subs.loc[(subs['plan_type'] == plan_type[i]),'convert_TF']\n",
    "    reject_null_test, z_score, p_value = reject_null(variantA_base_uae_14, variantB, alpha_f, num_sides_f)\n",
    "    \n",
    "    AB_test.at[\"conversion_rate\",plan_type[i]] = round(calc_proportion(variantB),4)\n",
    "    AB_test.at[\"reject\",plan_type[i]] = reject_null_test\n",
    "    AB_test.at[\"z_score\",plan_type[i]] = z_score\n",
    "    AB_test.at[\"p_value\",plan_type[i]] = p_value"
   ]
  },
  {
   "cell_type": "code",
   "execution_count": 466,
   "id": "1c904cff",
   "metadata": {},
   "outputs": [
    {
     "data": {
      "text/html": [
       "<div>\n",
       "<style scoped>\n",
       "    .dataframe tbody tr th:only-of-type {\n",
       "        vertical-align: middle;\n",
       "    }\n",
       "\n",
       "    .dataframe tbody tr th {\n",
       "        vertical-align: top;\n",
       "    }\n",
       "\n",
       "    .dataframe thead th {\n",
       "        text-align: right;\n",
       "    }\n",
       "</style>\n",
       "<table border=\"1\" class=\"dataframe\">\n",
       "  <thead>\n",
       "    <tr style=\"text-align: right;\">\n",
       "      <th></th>\n",
       "      <th>base_uae_14_day_trial</th>\n",
       "      <th>high_uae_14_day_trial</th>\n",
       "      <th>low_uae_no_trial</th>\n",
       "    </tr>\n",
       "  </thead>\n",
       "  <tbody>\n",
       "    <tr>\n",
       "      <th>conversion_rate</th>\n",
       "      <td>0.3635</td>\n",
       "      <td>0.2985</td>\n",
       "      <td>0.7964</td>\n",
       "    </tr>\n",
       "    <tr>\n",
       "      <th>reject</th>\n",
       "      <td>False</td>\n",
       "      <td>False</td>\n",
       "      <td>True</td>\n",
       "    </tr>\n",
       "    <tr>\n",
       "      <th>z_score</th>\n",
       "      <td>0.0</td>\n",
       "      <td>-2.438955</td>\n",
       "      <td>11.629309</td>\n",
       "    </tr>\n",
       "    <tr>\n",
       "      <th>p_value</th>\n",
       "      <td>0.5</td>\n",
       "      <td>0.007365</td>\n",
       "      <td>0.0</td>\n",
       "    </tr>\n",
       "  </tbody>\n",
       "</table>\n",
       "</div>"
      ],
      "text/plain": [
       "                base_uae_14_day_trial high_uae_14_day_trial low_uae_no_trial\n",
       "conversion_rate                0.3635                0.2985           0.7964\n",
       "reject                          False                 False             True\n",
       "z_score                           0.0             -2.438955        11.629309\n",
       "p_value                           0.5              0.007365              0.0"
      ]
     },
     "execution_count": 466,
     "metadata": {},
     "output_type": "execute_result"
    }
   ],
   "source": [
    "AB_test"
   ]
  },
  {
   "cell_type": "markdown",
   "id": "192428bb",
   "metadata": {},
   "source": [
    "## Attribution & Allocation"
   ]
  },
  {
   "cell_type": "code",
   "execution_count": 467,
   "id": "8a120788",
   "metadata": {},
   "outputs": [],
   "source": [
    "df = pd.DataFrame()"
   ]
  },
  {
   "cell_type": "code",
   "execution_count": 468,
   "id": "adf14049",
   "metadata": {},
   "outputs": [],
   "source": [
    "df['subid'] = subs.subid"
   ]
  },
  {
   "cell_type": "code",
   "execution_count": 470,
   "id": "a238bf11",
   "metadata": {},
   "outputs": [],
   "source": [
    "df['convert_TF'] = subs.convert_TF"
   ]
  },
  {
   "cell_type": "code",
   "execution_count": 472,
   "id": "4e675bd8",
   "metadata": {},
   "outputs": [],
   "source": [
    "df['touch'] = subs.attribution_technical"
   ]
  },
  {
   "cell_type": "code",
   "execution_count": 473,
   "id": "d58b85df",
   "metadata": {},
   "outputs": [],
   "source": [
    "#seperate customer fraction by they internet package type\n",
    "\n",
    "tier = {\n",
    "    'economy':3,\n",
    "    'base':2,\n",
    "    'enhanced':1\n",
    "}"
   ]
  },
  {
   "cell_type": "code",
   "execution_count": 474,
   "id": "4b9724b2",
   "metadata": {},
   "outputs": [],
   "source": [
    "df['tier'] = subs.package_type\n",
    "df['tier'] = df['tier'].map(tier)"
   ]
  },
  {
   "cell_type": "code",
   "execution_count": 506,
   "id": "7cd2a38f",
   "metadata": {},
   "outputs": [
    {
     "data": {
      "text/html": [
       "<div>\n",
       "<style scoped>\n",
       "    .dataframe tbody tr th:only-of-type {\n",
       "        vertical-align: middle;\n",
       "    }\n",
       "\n",
       "    .dataframe tbody tr th {\n",
       "        vertical-align: top;\n",
       "    }\n",
       "\n",
       "    .dataframe thead th {\n",
       "        text-align: right;\n",
       "    }\n",
       "</style>\n",
       "<table border=\"1\" class=\"dataframe\">\n",
       "  <thead>\n",
       "    <tr style=\"text-align: right;\">\n",
       "      <th></th>\n",
       "      <th>subid</th>\n",
       "      <th>convert_TF</th>\n",
       "      <th>touch</th>\n",
       "      <th>tier</th>\n",
       "    </tr>\n",
       "  </thead>\n",
       "  <tbody>\n",
       "    <tr>\n",
       "      <th>0</th>\n",
       "      <td>21724479</td>\n",
       "      <td>True</td>\n",
       "      <td>facebook</td>\n",
       "      <td>3.0</td>\n",
       "    </tr>\n",
       "    <tr>\n",
       "      <th>1</th>\n",
       "      <td>23383224</td>\n",
       "      <td>False</td>\n",
       "      <td>facebook</td>\n",
       "      <td>2.0</td>\n",
       "    </tr>\n",
       "    <tr>\n",
       "      <th>2</th>\n",
       "      <td>26844789</td>\n",
       "      <td>False</td>\n",
       "      <td>organic</td>\n",
       "      <td>1.0</td>\n",
       "    </tr>\n",
       "    <tr>\n",
       "      <th>3</th>\n",
       "      <td>29417030</td>\n",
       "      <td>False</td>\n",
       "      <td>search</td>\n",
       "      <td>2.0</td>\n",
       "    </tr>\n",
       "    <tr>\n",
       "      <th>4</th>\n",
       "      <td>26723159</td>\n",
       "      <td>False</td>\n",
       "      <td>discovery</td>\n",
       "      <td>2.0</td>\n",
       "    </tr>\n",
       "  </tbody>\n",
       "</table>\n",
       "</div>"
      ],
      "text/plain": [
       "      subid convert_TF      touch  tier\n",
       "0  21724479       True   facebook   3.0\n",
       "1  23383224      False   facebook   2.0\n",
       "2  26844789      False    organic   1.0\n",
       "3  29417030      False     search   2.0\n",
       "4  26723159      False  discovery   2.0"
      ]
     },
     "execution_count": 506,
     "metadata": {},
     "output_type": "execute_result"
    }
   ],
   "source": [
    "df.head()"
   ]
  },
  {
   "cell_type": "code",
   "execution_count": 476,
   "id": "e634cc05",
   "metadata": {},
   "outputs": [],
   "source": [
    "df_spending = pd.read_csv('Copy of channel_spend_graduate.csv')"
   ]
  },
  {
   "cell_type": "code",
   "execution_count": 477,
   "id": "bd6eb165",
   "metadata": {},
   "outputs": [
    {
     "name": "stdout",
     "output_type": "stream",
     "text": [
      "0.326781676444079\n",
      "0.3751166295844398\n",
      "0.38837973370223067\n"
     ]
    }
   ],
   "source": [
    "#conversion rate for each tier\n",
    "\n",
    "percentage1 = len(df[df.tier == 1][df.convert_TF == True]) / len(df[df.tier == 1])\n",
    "print(percentage1)\n",
    "percentage2 = len(df[df.tier == 2][df.convert_TF == True]) / len(df[df.tier == 2])\n",
    "print(percentage2)\n",
    "percentage3 = len(df[df.tier == 3][df.convert_TF == True]) / len(df[df.tier == 3])\n",
    "print(percentage3)"
   ]
  },
  {
   "cell_type": "code",
   "execution_count": 478,
   "id": "5239b3d3",
   "metadata": {},
   "outputs": [
    {
     "data": {
      "text/plain": [
       "2.0    111464\n",
       "1.0     63241\n",
       "3.0     17349\n",
       "Name: tier, dtype: int64"
      ]
     },
     "execution_count": 478,
     "metadata": {},
     "output_type": "execute_result"
    }
   ],
   "source": [
    "df.tier.value_counts()"
   ]
  },
  {
   "cell_type": "code",
   "execution_count": 479,
   "id": "da220fe8",
   "metadata": {},
   "outputs": [],
   "source": [
    "total_spending = pd.DataFrame(index=df_spending.channel.unique())"
   ]
  },
  {
   "cell_type": "code",
   "execution_count": 480,
   "id": "cfd038d2",
   "metadata": {},
   "outputs": [],
   "source": [
    "total_spending['total_spending'] = df_spending.groupby(by='channel')['spend_AED'].sum()"
   ]
  },
  {
   "cell_type": "code",
   "execution_count": 483,
   "id": "026fab12",
   "metadata": {},
   "outputs": [
    {
     "name": "stdout",
     "output_type": "stream",
     "text": [
      "bing: 28.42\n",
      "display: 0.70\n",
      "facebook: 4.32\n",
      "search: 27.49\n",
      "youtube: 38.29\n"
     ]
    }
   ],
   "source": [
    "#calculate avg. CAC for the top 5 channels.\n",
    "\n",
    "CAC_bing = total_spending.at['bing','total_spending'] / len(df[df.convert_TF == True][df.touch == 'bing'])\n",
    "print('bing: %.2f'%CAC_bing)\n",
    "CAC_display = total_spending.at['display','total_spending'] / len(df[df.convert_TF == True][df.touch == 'display'])\n",
    "print('display: %.2f'%CAC_display)\n",
    "CAC_facebook = total_spending.at['facebook','total_spending'] / len(df[df.convert_TF == True][df.touch == 'facebook'])\n",
    "print('facebook: %.2f'%CAC_facebook)\n",
    "CAC_search = total_spending.at['search','total_spending'] / len(df[df.convert_TF == True][df.touch == 'search'])\n",
    "print('search: %.2f'%CAC_search)\n",
    "CAC_youtube = total_spending.at['youtube','total_spending'] / len(df[df.convert_TF == True][df.touch == 'youtube'])\n",
    "print('youtube: %.2f'%CAC_youtube)"
   ]
  },
  {
   "cell_type": "code",
   "execution_count": 484,
   "id": "d0c4d3b7",
   "metadata": {},
   "outputs": [
    {
     "data": {
      "text/plain": [
       "facebook                   80251\n",
       "email                      25690\n",
       "search                     25306\n",
       "organic                    22013\n",
       "brand sem intent google    18524\n",
       "google_organic             10691\n",
       "affiliate                   9894\n",
       "email_blast                 7277\n",
       "pinterest                   6065\n",
       "referral                    5170\n",
       "facebook_organic            3272\n",
       "discovery                   2571\n",
       "brand sem intent bing       2231\n",
       "other                       1786\n",
       "display                     1407\n",
       "bing                        1146\n",
       "internal                    1122\n",
       "podcast                      985\n",
       "youtube                      913\n",
       "bing_organic                 369\n",
       "vod                          297\n",
       "ott                          158\n",
       "direct_mail                  139\n",
       "quora                        100\n",
       "samsung                       86\n",
       "appstore                      44\n",
       "criteo                        44\n",
       "pinterest_organic             30\n",
       "influencer                    21\n",
       "playstore                     12\n",
       "content_greatist               5\n",
       "twitter                        5\n",
       "tv                             4\n",
       "Name: touch, dtype: int64"
      ]
     },
     "execution_count": 484,
     "metadata": {},
     "output_type": "execute_result"
    }
   ],
   "source": [
    "df['touch'].value_counts()"
   ]
  },
  {
   "cell_type": "code",
   "execution_count": 485,
   "id": "b642ff54",
   "metadata": {},
   "outputs": [
    {
     "name": "stdout",
     "output_type": "stream",
     "text": [
      "bing 27.027027027027028 15.151515151515152 10.989010989010989\n",
      "facebook 0.5347593582887701 0.18858436007040483 0.16756968105904038\n",
      "display 21.8978102189781 10.60070671378092 8.571428571428571\n",
      "search 1.7772511848341233 0.3831417624521073 1.122754491017964\n",
      "youtube 38.46153846153846 12.5 16.304347826086957\n"
     ]
    }
   ],
   "source": [
    "# calculate marginal CAC\n",
    "\n",
    "for a in ['bing', 'facebook', 'display', 'search', 'youtube']:\n",
    "    economic_cac = 3000 / df.touch[df.tier == 3][df.touch==a].count()\n",
    "    ehance_cac = 3000 / (df.touch[df.tier == 1][df.touch==a].count() - df.touch[df.tier == 3][df.touch==a].count())\n",
    "    based_cac = 3000 / (df.touch[df.tier == 2][df.touch==a].count() - df.touch[df.tier == 1][df.touch==a].count())\n",
    "    print(a, economic_cac, ehance_cac, based_cac)"
   ]
  },
  {
   "cell_type": "markdown",
   "id": "07cd6295",
   "metadata": {},
   "source": [
    "## Churn"
   ]
  },
  {
   "cell_type": "code",
   "execution_count": 487,
   "id": "6cbf8624",
   "metadata": {},
   "outputs": [],
   "source": [
    "subs_churn = subs.copy()"
   ]
  },
  {
   "cell_type": "code",
   "execution_count": 488,
   "id": "8bd99d35",
   "metadata": {},
   "outputs": [],
   "source": [
    "subs_churn['convert_TF'] = df.convert_TF"
   ]
  },
  {
   "cell_type": "code",
   "execution_count": 489,
   "id": "3164442e",
   "metadata": {},
   "outputs": [
    {
     "data": {
      "text/plain": [
       "Index(['subid', 'package_type', 'num_weekly_services_utilized',\n",
       "       'preferred_genre', 'intended_use', 'weekly_consumption_hour',\n",
       "       'num_ideal_streaming_services', 'retarget_TF', 'age', 'male_TF',\n",
       "       'country', 'attribution_technical', 'attribution_survey', 'op_sys',\n",
       "       'months_per_bill_period', 'plan_type', 'monthly_price',\n",
       "       'discount_price', 'account_creation_date', 'creation_until_cancel_days',\n",
       "       'cancel_before_trial_end', 'trial_end_date',\n",
       "       'initial_credit_card_declined', 'revenue_net', 'join_fee', 'language',\n",
       "       'paid_TF', 'refund_after_trial_TF', 'payment_type', 'convert_TF'],\n",
       "      dtype='object')"
      ]
     },
     "execution_count": 489,
     "metadata": {},
     "output_type": "execute_result"
    }
   ],
   "source": [
    "subs_churn.columns"
   ]
  },
  {
   "cell_type": "code",
   "execution_count": 490,
   "id": "73092767",
   "metadata": {},
   "outputs": [
    {
     "data": {
      "text/html": [
       "<div>\n",
       "<style scoped>\n",
       "    .dataframe tbody tr th:only-of-type {\n",
       "        vertical-align: middle;\n",
       "    }\n",
       "\n",
       "    .dataframe tbody tr th {\n",
       "        vertical-align: top;\n",
       "    }\n",
       "\n",
       "    .dataframe thead th {\n",
       "        text-align: right;\n",
       "    }\n",
       "</style>\n",
       "<table border=\"1\" class=\"dataframe\">\n",
       "  <thead>\n",
       "    <tr style=\"text-align: right;\">\n",
       "      <th></th>\n",
       "      <th>subid</th>\n",
       "      <th>num_weekly_services_utilized</th>\n",
       "      <th>weekly_consumption_hour</th>\n",
       "      <th>num_ideal_streaming_services</th>\n",
       "      <th>age</th>\n",
       "      <th>months_per_bill_period</th>\n",
       "      <th>monthly_price</th>\n",
       "      <th>discount_price</th>\n",
       "      <th>creation_until_cancel_days</th>\n",
       "      <th>revenue_net</th>\n",
       "      <th>join_fee</th>\n",
       "    </tr>\n",
       "  </thead>\n",
       "  <tbody>\n",
       "    <tr>\n",
       "      <th>count</th>\n",
       "      <td>2.276280e+05</td>\n",
       "      <td>117178.000000</td>\n",
       "      <td>189698.000000</td>\n",
       "      <td>115458.000000</td>\n",
       "      <td>1.924590e+05</td>\n",
       "      <td>227628.0</td>\n",
       "      <td>227628.000000</td>\n",
       "      <td>227628.000000</td>\n",
       "      <td>151768.000000</td>\n",
       "      <td>192724.000000</td>\n",
       "      <td>192724.000000</td>\n",
       "    </tr>\n",
       "    <tr>\n",
       "      <th>mean</th>\n",
       "      <td>2.498624e+07</td>\n",
       "      <td>2.998568</td>\n",
       "      <td>27.997724</td>\n",
       "      <td>1.999848</td>\n",
       "      <td>7.579755e+02</td>\n",
       "      <td>4.0</td>\n",
       "      <td>4.732049</td>\n",
       "      <td>4.512188</td>\n",
       "      <td>16.570832</td>\n",
       "      <td>1.557353</td>\n",
       "      <td>0.115145</td>\n",
       "    </tr>\n",
       "    <tr>\n",
       "      <th>std</th>\n",
       "      <td>2.885543e+06</td>\n",
       "      <td>0.748752</td>\n",
       "      <td>4.976341</td>\n",
       "      <td>0.249508</td>\n",
       "      <td>1.920204e+05</td>\n",
       "      <td>0.0</td>\n",
       "      <td>0.101049</td>\n",
       "      <td>0.097078</td>\n",
       "      <td>35.777986</td>\n",
       "      <td>3.068829</td>\n",
       "      <td>0.176971</td>\n",
       "    </tr>\n",
       "    <tr>\n",
       "      <th>min</th>\n",
       "      <td>2.000001e+07</td>\n",
       "      <td>0.049049</td>\n",
       "      <td>-32.146760</td>\n",
       "      <td>-0.919933</td>\n",
       "      <td>0.000000e+00</td>\n",
       "      <td>4.0</td>\n",
       "      <td>0.807400</td>\n",
       "      <td>0.770700</td>\n",
       "      <td>-108.000000</td>\n",
       "      <td>-5.982100</td>\n",
       "      <td>-0.660600</td>\n",
       "    </tr>\n",
       "    <tr>\n",
       "      <th>25%</th>\n",
       "      <td>2.248998e+07</td>\n",
       "      <td>2.493926</td>\n",
       "      <td>24.401536</td>\n",
       "      <td>1.867354</td>\n",
       "      <td>3.500000e+01</td>\n",
       "      <td>4.0</td>\n",
       "      <td>4.734300</td>\n",
       "      <td>4.514100</td>\n",
       "      <td>2.000000</td>\n",
       "      <td>0.000000</td>\n",
       "      <td>0.036700</td>\n",
       "    </tr>\n",
       "    <tr>\n",
       "      <th>50%</th>\n",
       "      <td>2.497011e+07</td>\n",
       "      <td>2.760506</td>\n",
       "      <td>27.301448</td>\n",
       "      <td>1.908159</td>\n",
       "      <td>4.600000e+01</td>\n",
       "      <td>4.0</td>\n",
       "      <td>4.734300</td>\n",
       "      <td>4.514100</td>\n",
       "      <td>8.000000</td>\n",
       "      <td>0.000000</td>\n",
       "      <td>0.036700</td>\n",
       "    </tr>\n",
       "    <tr>\n",
       "      <th>75%</th>\n",
       "      <td>2.749020e+07</td>\n",
       "      <td>3.271574</td>\n",
       "      <td>30.201361</td>\n",
       "      <td>1.953559</td>\n",
       "      <td>5.700000e+01</td>\n",
       "      <td>4.0</td>\n",
       "      <td>4.734300</td>\n",
       "      <td>4.514100</td>\n",
       "      <td>13.000000</td>\n",
       "      <td>2.532300</td>\n",
       "      <td>0.110100</td>\n",
       "    </tr>\n",
       "    <tr>\n",
       "      <th>max</th>\n",
       "      <td>2.999998e+07</td>\n",
       "      <td>14.335378</td>\n",
       "      <td>76.599962</td>\n",
       "      <td>6.955714</td>\n",
       "      <td>8.172000e+07</td>\n",
       "      <td>4.0</td>\n",
       "      <td>5.101300</td>\n",
       "      <td>5.027900</td>\n",
       "      <td>312.000000</td>\n",
       "      <td>15.634200</td>\n",
       "      <td>0.734000</td>\n",
       "    </tr>\n",
       "  </tbody>\n",
       "</table>\n",
       "</div>"
      ],
      "text/plain": [
       "              subid  num_weekly_services_utilized  weekly_consumption_hour  \\\n",
       "count  2.276280e+05                 117178.000000            189698.000000   \n",
       "mean   2.498624e+07                      2.998568                27.997724   \n",
       "std    2.885543e+06                      0.748752                 4.976341   \n",
       "min    2.000001e+07                      0.049049               -32.146760   \n",
       "25%    2.248998e+07                      2.493926                24.401536   \n",
       "50%    2.497011e+07                      2.760506                27.301448   \n",
       "75%    2.749020e+07                      3.271574                30.201361   \n",
       "max    2.999998e+07                     14.335378                76.599962   \n",
       "\n",
       "       num_ideal_streaming_services           age  months_per_bill_period  \\\n",
       "count                 115458.000000  1.924590e+05                227628.0   \n",
       "mean                       1.999848  7.579755e+02                     4.0   \n",
       "std                        0.249508  1.920204e+05                     0.0   \n",
       "min                       -0.919933  0.000000e+00                     4.0   \n",
       "25%                        1.867354  3.500000e+01                     4.0   \n",
       "50%                        1.908159  4.600000e+01                     4.0   \n",
       "75%                        1.953559  5.700000e+01                     4.0   \n",
       "max                        6.955714  8.172000e+07                     4.0   \n",
       "\n",
       "       monthly_price  discount_price  creation_until_cancel_days  \\\n",
       "count  227628.000000   227628.000000               151768.000000   \n",
       "mean        4.732049        4.512188                   16.570832   \n",
       "std         0.101049        0.097078                   35.777986   \n",
       "min         0.807400        0.770700                 -108.000000   \n",
       "25%         4.734300        4.514100                    2.000000   \n",
       "50%         4.734300        4.514100                    8.000000   \n",
       "75%         4.734300        4.514100                   13.000000   \n",
       "max         5.101300        5.027900                  312.000000   \n",
       "\n",
       "         revenue_net       join_fee  \n",
       "count  192724.000000  192724.000000  \n",
       "mean        1.557353       0.115145  \n",
       "std         3.068829       0.176971  \n",
       "min        -5.982100      -0.660600  \n",
       "25%         0.000000       0.036700  \n",
       "50%         0.000000       0.036700  \n",
       "75%         2.532300       0.110100  \n",
       "max        15.634200       0.734000  "
      ]
     },
     "execution_count": 490,
     "metadata": {},
     "output_type": "execute_result"
    }
   ],
   "source": [
    "subs_churn.describe()"
   ]
  },
  {
   "cell_type": "code",
   "execution_count": 491,
   "id": "4ddf9c52",
   "metadata": {},
   "outputs": [],
   "source": [
    "# replace the negative values in weekly_consumption_hour and num_ideal_streaming_services with means, since they are\n",
    "# self-reported and might be randomly filled, no matter intentionally or unintentionally.\n",
    "subs_churn['weekly_consumption_hour'][subs_churn['weekly_consumption_hour']<0] = \\\n",
    "subs_churn['weekly_consumption_hour'].mean()\n",
    "subs_churn['num_ideal_streaming_services'][subs_churn['num_ideal_streaming_services']<0] = \\\n",
    "subs_churn['num_ideal_streaming_services'].mean()\n",
    "\n",
    "# drop those data with ages greater than 70, which are filled in randomly and might be noise to prediciton.\n",
    "subs_churn.drop(subs_churn[subs_churn[\"age\"]>70].index,inplace=True)\n",
    "\n",
    "# drop irrevelent columns\n",
    "subs_churn.drop(['monthly_price','discount_price','months_per_bill_period','account_creation_date'\n",
    "                 ,'creation_until_cancel_days','cancel_before_trial_end','initial_credit_card_declined','revenue_net'\n",
    "                ,'paid_TF','refund_after_trial_TF','payment_type','trial_end_date'],axis=1,inplace=True)"
   ]
  },
  {
   "cell_type": "code",
   "execution_count": 492,
   "id": "2ef8030d",
   "metadata": {},
   "outputs": [
    {
     "name": "stdout",
     "output_type": "stream",
     "text": [
      "<class 'pandas.core.frame.DataFrame'>\n",
      "Int64Index: 219725 entries, 0 to 227627\n",
      "Data columns (total 18 columns):\n",
      " #   Column                        Non-Null Count   Dtype  \n",
      "---  ------                        --------------   -----  \n",
      " 0   subid                         219725 non-null  int64  \n",
      " 1   package_type                  185464 non-null  object \n",
      " 2   num_weekly_services_utilized  113524 non-null  float64\n",
      " 3   preferred_genre               184766 non-null  object \n",
      " 4   intended_use                  216354 non-null  object \n",
      " 5   weekly_consumption_hour       181916 non-null  float64\n",
      " 6   num_ideal_streaming_services  111885 non-null  float64\n",
      " 7   retarget_TF                   219725 non-null  bool   \n",
      " 8   age                           184556 non-null  float64\n",
      " 9   male_TF                       219456 non-null  object \n",
      " 10  country                       219725 non-null  object \n",
      " 11  attribution_technical         219725 non-null  object \n",
      " 12  attribution_survey            217215 non-null  object \n",
      " 13  op_sys                        207711 non-null  object \n",
      " 14  plan_type                     219725 non-null  object \n",
      " 15  join_fee                      184821 non-null  float64\n",
      " 16  language                      219725 non-null  object \n",
      " 17  convert_TF                    219725 non-null  object \n",
      "dtypes: bool(1), float64(5), int64(1), object(11)\n",
      "memory usage: 30.4+ MB\n"
     ]
    }
   ],
   "source": [
    "subs_churn.info()"
   ]
  },
  {
   "cell_type": "code",
   "execution_count": 493,
   "id": "fb800374",
   "metadata": {},
   "outputs": [],
   "source": [
    "# splitting data to do churn prediction by decission tree model\n",
    "\n",
    "from sklearn.model_selection import train_test_split\n",
    "\n",
    "df_train,df_test = train_test_split(subs_churn,test_size = 0.2, random_state = 111)\n",
    "\n",
    "y_train = (df_train.convert_TF).values\n",
    "y_test = (df_test.convert_TF).values"
   ]
  },
  {
   "cell_type": "code",
   "execution_count": 494,
   "id": "69478304",
   "metadata": {},
   "outputs": [],
   "source": [
    "del df_train['convert_TF']\n",
    "del df_test['convert_TF']"
   ]
  },
  {
   "cell_type": "code",
   "execution_count": 495,
   "id": "b3a405e1",
   "metadata": {},
   "outputs": [],
   "source": [
    "# one-hot encoding\n",
    "from sklearn.feature_extraction import DictVectorizer\n",
    "df_train = df_train.fillna(0)\n",
    "df_test = df_test.fillna(0)\n",
    "\n",
    "dict_train = df_train.to_dict(orient='records')\n",
    "dict_val = df_test.to_dict(orient='records')\n",
    "\n",
    "dv = DictVectorizer(sparse=False)\n",
    "X_train = dv.fit_transform(dict_train)\n",
    "X_val = dv.transform(dict_val)"
   ]
  },
  {
   "cell_type": "code",
   "execution_count": 496,
   "id": "665aa9d8",
   "metadata": {},
   "outputs": [
    {
     "data": {
      "text/plain": [
       "DecisionTreeClassifier()"
      ]
     },
     "execution_count": 496,
     "metadata": {},
     "output_type": "execute_result"
    }
   ],
   "source": [
    "from sklearn.tree import DecisionTreeClassifier\n",
    "from sklearn.metrics import roc_auc_score\n",
    "dt = DecisionTreeClassifier()\n",
    "dt.fit(X_train,y_train.astype(int))"
   ]
  },
  {
   "cell_type": "code",
   "execution_count": 497,
   "id": "43a8a2c6",
   "metadata": {},
   "outputs": [
    {
     "data": {
      "text/plain": [
       "0.7164879926762406"
      ]
     },
     "execution_count": 497,
     "metadata": {},
     "output_type": "execute_result"
    }
   ],
   "source": [
    "y_pred = dt.predict_proba(X_val)[:, 1]\n",
    "roc_auc_score(y_test.astype(int), y_pred)"
   ]
  },
  {
   "cell_type": "code",
   "execution_count": 498,
   "id": "c252e449",
   "metadata": {},
   "outputs": [
    {
     "name": "stdout",
     "output_type": "stream",
     "text": [
      "depth: 4\n",
      "1 -> 0.826\n",
      "5 -> 0.826\n",
      "10 -> 0.827\n",
      "15 -> 0.827\n",
      "20 -> 0.827\n",
      "50 -> 0.827\n",
      "100 -> 0.827\n",
      "200 -> 0.827\n",
      "\n",
      "depth: 5\n",
      "1 -> 0.839\n",
      "5 -> 0.839\n",
      "10 -> 0.839\n",
      "15 -> 0.839\n",
      "20 -> 0.839\n",
      "50 -> 0.840\n",
      "100 -> 0.840\n",
      "200 -> 0.839\n",
      "\n",
      "depth: 6\n",
      "1 -> 0.851\n",
      "5 -> 0.851\n",
      "10 -> 0.851\n",
      "15 -> 0.851\n",
      "20 -> 0.851\n",
      "50 -> 0.851\n",
      "100 -> 0.851\n",
      "200 -> 0.851\n",
      "\n",
      "depth: 10\n",
      "1 -> 0.862\n",
      "5 -> 0.863\n",
      "10 -> 0.864\n",
      "15 -> 0.864\n",
      "20 -> 0.864\n",
      "50 -> 0.864\n",
      "100 -> 0.865\n",
      "200 -> 0.864\n",
      "\n"
     ]
    }
   ],
   "source": [
    "# Tuning the model\n",
    "\n",
    "for m in [4, 5, 6,10]:\n",
    "    print('depth: %s' % m)\n",
    "\n",
    "    for s in [1, 5, 10, 15, 20, 50, 100, 200]:\n",
    "        dt = DecisionTreeClassifier(max_depth=m, min_samples_leaf=s)\n",
    "        dt.fit(X_train, y_train.astype(int))\n",
    "        y_pred = dt.predict_proba(X_val)[:, 1]\n",
    "        auc = roc_auc_score(y_test.astype(int), y_pred)\n",
    "        print('%s -> %.3f' % (s, auc))\n",
    "    \n",
    "    print()"
   ]
  },
  {
   "cell_type": "code",
   "execution_count": 499,
   "id": "761db29e",
   "metadata": {},
   "outputs": [
    {
     "data": {
      "text/plain": [
       "0.86511851066771"
      ]
     },
     "execution_count": 499,
     "metadata": {},
     "output_type": "execute_result"
    }
   ],
   "source": [
    "# Determine the hyperparameter\n",
    "\n",
    "dt = DecisionTreeClassifier(max_depth=10, min_samples_leaf=100)\n",
    "dt.fit(X_train, y_train.astype(int))\n",
    "\n",
    "y_pred_dt = dt.predict_proba(X_val)[:, 1]\n",
    "roc_auc_score(y_test.astype(int), y_pred_dt)"
   ]
  },
  {
   "cell_type": "code",
   "execution_count": 500,
   "id": "5e4660e1",
   "metadata": {},
   "outputs": [],
   "source": [
    "# ------ DEFINE FUNCTIONS -----\n",
    "def apply_offers(df, threshold, base_price, discount_amount, cases, acceptance_rate_churn, acceptance_rate_nonchurn):\n",
    "    df_f = df_test.copy()\n",
    "\n",
    "    # set offer parameters for all observations\n",
    "    df_f['price_no_offer'] = base_price\n",
    "    df_f.loc[df_f['convert_TF'] == False, 'price_no_offer'] = 0  # if the person churns they will pay 0\n",
    "\n",
    "    # determine whether indiviudals accept offer\n",
    "    df_f.loc[df_f['convert_TF'] == False, 'accept_offer_prob'] = acceptance_rate_churn  # those who were going to churn are less likely to want the offer than those who were going to stay\n",
    "    df_f.loc[df_f['convert_TF'] == True, 'accept_offer_prob'] = acceptance_rate_nonchurn\n",
    "    df_f['would_accept_offer_rand_draw'] = (df_f['random_draws'] < df_f['accept_offer_prob'])  # randomly select the individuals who would accept an offer based on their probability of acceptance\n",
    "\n",
    "    # make offer under predictions for select threshold\n",
    "    df_f['make_offer'] = (df_f['prob_churn'] > threshold)     # predict whether individual will churn or not\n",
    "    df_f['accept_offer'] = (df_f['make_offer'] & df_f['would_accept_offer_rand_draw'])\n",
    "    df_f['price_offer'] = df_f['price_no_offer']  # initialize prices from \"do nothing case\"\n",
    "    df_f.loc[df_f['accept_offer'], 'price_offer'] = base_price * (1-discount_amount)    # for those who were both made an offer and would accept, set prices to discounted price\n",
    "\n",
    "    df_impact = pd.DataFrame(index=cases, columns=['subs', 'revenue', 'lift_from_no_offer'])\n",
    "    for c in cases:\n",
    "        df_impact.loc[c, 'subs'] = (df_f['price_' + c] > 0).sum() # \n",
    "        df_impact.loc[c, 'revenue'] = df_f['price_' + c].sum()\n",
    "    for c in cases:\n",
    "        df_impact.loc[c, 'lift_from_no_offer'] = df_impact.loc[c, 'revenue'] / df_impact.loc['no_offer', 'revenue'] - 1\n",
    "\n",
    "    return df_f, df_impact\n"
   ]
  },
  {
   "cell_type": "code",
   "execution_count": 501,
   "id": "12ffe0aa",
   "metadata": {},
   "outputs": [],
   "source": [
    "# ----- TEST RETENTION OFFER SCENARIOS -----\n",
    "# evaluate the impact of an offer\n",
    "acceptance_rate_nonchurn = 1\n",
    "acceptance_rate_churn = 0.3\n",
    "threshold = 0.5\n",
    "base_price = 4.7343\n",
    "discount_amount = 0.3\n",
    "cases = ['no_offer', 'offer']\n",
    "\n",
    "# draw whether individual would accept an offer or not - assume probability of acceptance is independent of offer attractiveness\n",
    "df_test['random_draws'] = np.random.random(df_test.shape[0])\n",
    "\n",
    "\n",
    "df_test['prob_churn'] = dt.predict_proba(X_val)[:, 0]\n",
    "df_test['convert_TF'] = y_test.tolist()\n",
    "# base assessment\n",
    "df_test, df_impact = apply_offers(df_test, threshold, base_price, discount_amount, cases, acceptance_rate_churn, acceptance_rate_nonchurn)\n",
    "\n",
    "# test sensitivity to thresholds\n",
    "df_lift_threshold = pd.DataFrame(index=range(0, 100, 1), columns=['threshold'] + cases)\n",
    "for t_ind in df_lift_threshold.index:\n",
    "    t_threshold = t_ind / 100\n",
    "    _, t_df_impact = apply_offers(df_test, t_threshold, base_price, discount_amount, cases, acceptance_rate_churn, acceptance_rate_nonchurn)\n",
    "\n",
    "    df_lift_threshold.loc[t_ind, 'threshold'] = t_threshold\n",
    "    df_lift_threshold.loc[t_ind, cases] = t_df_impact.loc[cases, 'lift_from_no_offer']\n",
    "del t_df_impact, t_threshold, t_ind\n",
    "\n",
    "# test sensitivity to acceptance rate for churners\n",
    "df_lift_acceptance_rate_churn = pd.DataFrame(index=range(0, 100, 1), columns=['acceptance_rate_churn'] + cases)\n",
    "for t_ind in df_lift_acceptance_rate_churn.index:\n",
    "    t_acceptance_rate_churn = t_ind / 100\n",
    "    _, t_df_impact = apply_offers(df_test, threshold, base_price, discount_amount, cases, t_acceptance_rate_churn, acceptance_rate_nonchurn)\n",
    "\n",
    "    df_lift_acceptance_rate_churn.loc[t_ind, 'acceptance_rate_churn'] = t_acceptance_rate_churn\n",
    "    df_lift_acceptance_rate_churn.loc[t_ind, cases] = t_df_impact.loc[cases, 'lift_from_no_offer']\n",
    "del t_df_impact, t_acceptance_rate_churn, t_ind\n",
    "\n",
    "# test sensitivity to offer discount amount\n",
    "df_lift_discount_amount = pd.DataFrame(index=range(0, 100, 1), columns=['discount_amount'] + cases)\n",
    "for t_ind in df_lift_discount_amount.index:\n",
    "    t_discount_amount = t_ind / 100\n",
    "    _, t_df_impact = apply_offers(df_test, threshold, base_price, t_discount_amount, cases, acceptance_rate_churn, acceptance_rate_nonchurn)\n",
    "\n",
    "    df_lift_discount_amount.loc[t_ind, 'discount_amount'] = t_discount_amount\n",
    "    df_lift_discount_amount.loc[t_ind, cases] = t_df_impact.loc[cases, 'lift_from_no_offer']\n",
    "del t_df_impact, t_discount_amount, t_ind\n",
    "\n"
   ]
  },
  {
   "cell_type": "code",
   "execution_count": 502,
   "id": "415360e5",
   "metadata": {},
   "outputs": [
    {
     "data": {
      "text/html": [
       "<div>\n",
       "<style scoped>\n",
       "    .dataframe tbody tr th:only-of-type {\n",
       "        vertical-align: middle;\n",
       "    }\n",
       "\n",
       "    .dataframe tbody tr th {\n",
       "        vertical-align: top;\n",
       "    }\n",
       "\n",
       "    .dataframe thead th {\n",
       "        text-align: right;\n",
       "    }\n",
       "</style>\n",
       "<table border=\"1\" class=\"dataframe\">\n",
       "  <thead>\n",
       "    <tr style=\"text-align: right;\">\n",
       "      <th></th>\n",
       "      <th>subs</th>\n",
       "      <th>revenue</th>\n",
       "      <th>lift_from_no_offer</th>\n",
       "    </tr>\n",
       "  </thead>\n",
       "  <tbody>\n",
       "    <tr>\n",
       "      <th>no_offer</th>\n",
       "      <td>16012</td>\n",
       "      <td>75805.6116</td>\n",
       "      <td>0.0</td>\n",
       "    </tr>\n",
       "    <tr>\n",
       "      <th>offer</th>\n",
       "      <td>23659</td>\n",
       "      <td>92163.09153</td>\n",
       "      <td>0.215782</td>\n",
       "    </tr>\n",
       "  </tbody>\n",
       "</table>\n",
       "</div>"
      ],
      "text/plain": [
       "           subs      revenue lift_from_no_offer\n",
       "no_offer  16012   75805.6116                0.0\n",
       "offer     23659  92163.09153           0.215782"
      ]
     },
     "execution_count": 502,
     "metadata": {},
     "output_type": "execute_result"
    }
   ],
   "source": [
    "df_impact"
   ]
  },
  {
   "cell_type": "code",
   "execution_count": 503,
   "id": "41d72893",
   "metadata": {},
   "outputs": [
    {
     "data": {
      "text/plain": [
       "<matplotlib.legend.Legend at 0x7fbdadd20bb0>"
      ]
     },
     "execution_count": 503,
     "metadata": {},
     "output_type": "execute_result"
    },
    {
     "data": {
      "image/png": "[encoded data removed]",
      "text/plain": [
       "<Figure size 640x480 with 1 Axes>"
      ]
     },
     "metadata": {
      "needs_background": "light"
     },
     "output_type": "display_data"
    }
   ],
   "source": [
    "from matplotlib import pyplot as plt\n",
    "\n",
    "fig = plt.figure(figsize=(8, 6), dpi=80)\n",
    "ax1 = plt.gca()\n",
    "ax1.plot(df_lift_threshold['threshold'], df_lift_threshold['offer'], 'b-')\n",
    "plt.title('Lift curves')\n",
    "plt.xlabel('Threshold probability for predicting customer churns')\n",
    "plt.ylabel('Revenue lift from base scenario of making no retention offer')\n",
    "plt.legend(labels=['decission tree model'])\n"
   ]
  },
  {
   "cell_type": "code",
   "execution_count": 504,
   "id": "0a5605d5",
   "metadata": {},
   "outputs": [
    {
     "data": {
      "text/plain": [
       "<matplotlib.legend.Legend at 0x7fbd80a2daf0>"
      ]
     },
     "execution_count": 504,
     "metadata": {},
     "output_type": "execute_result"
    },
    {
     "data": {
      "image/png": "[encoded data removed]",
      "text/plain": [
       "<Figure size 640x480 with 1 Axes>"
      ]
     },
     "metadata": {
      "needs_background": "light"
     },
     "output_type": "display_data"
    }
   ],
   "source": [
    "# Acceptance rate sensitivity\n",
    "fig = plt.figure(figsize=(8, 6), dpi=80)\n",
    "ax1 = plt.gca()\n",
    "ax1.plot(df_lift_acceptance_rate_churn['acceptance_rate_churn'], df_lift_acceptance_rate_churn['offer'], 'b-')\n",
    "plt.title('Rev. Lift curve by acceptance rate')\n",
    "plt.xlabel('Offer acceptance rate for those who would churn')\n",
    "plt.ylabel('Revenue lift from base scenario of making no retention offer')\n",
    "plt.legend(labels=['Decission Tree model'])\n"
   ]
  },
  {
   "cell_type": "code",
   "execution_count": 505,
   "id": "83b4c5c6",
   "metadata": {},
   "outputs": [
    {
     "data": {
      "text/plain": [
       "<matplotlib.legend.Legend at 0x7fbdaf9b1490>"
      ]
     },
     "execution_count": 505,
     "metadata": {},
     "output_type": "execute_result"
    },
    {
     "data": {
      "image/png": "[encoded data removed]",
      "text/plain": [
       "<Figure size 640x480 with 1 Axes>"
      ]
     },
     "metadata": {
      "needs_background": "light"
     },
     "output_type": "display_data"
    }
   ],
   "source": [
    "# Discount amount sensitivity\n",
    "fig = plt.figure(figsize=(8, 6), dpi=80)\n",
    "ax1 = plt.gca()\n",
    "ax1.plot(df_lift_discount_amount['discount_amount'], df_lift_discount_amount['offer'], 'b-')\n",
    "plt.title('Rev. Lift curve by discount amount')\n",
    "plt.xlabel('Offer discount amount')\n",
    "plt.ylabel('Revenue lift from base scenario of making no retention offer')\n",
    "plt.legend(labels=['Decission Tree model'])"
   ]
  }
 ],
 "metadata": {
  "kernelspec": {
   "display_name": "Python 3 (ipykernel)",
   "language": "python",
   "name": "python3"
  },
  "language_info": {
   "codemirror_mode": {
    "name": "ipython",
    "version": 3
   },
   "file_extension": ".py",
   "mimetype": "text/x-python",
   "name": "python",
   "nbconvert_exporter": "python",
   "pygments_lexer": "ipython3",
   "version": "3.9.12"
  }
 },
 "nbformat": 4,
 "nbformat_minor": 5
}
